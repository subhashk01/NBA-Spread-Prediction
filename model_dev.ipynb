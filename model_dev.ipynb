{
 "cells": [
  {
   "cell_type": "code",
   "execution_count": 78,
   "id": "3860fde2-b6d2-4075-bfae-4ec2d09387c8",
   "metadata": {},
   "outputs": [],
   "source": [
    "import pandas as pd\n",
    "import numpy as np\n",
    "import matplotlib.pyplot as plt\n",
    "from sklearn.model_selection  import train_test_split\n",
    "from sklearn.metrics import f1_score, accuracy_score, confusion_matrix"
   ]
  },
  {
   "cell_type": "code",
   "execution_count": 65,
   "id": "917e3491-da09-47de-b62b-26b22cc47c99",
   "metadata": {},
   "outputs": [
    {
     "data": {
      "text/plain": [
       "0        0\n",
       "1        1\n",
       "2        2\n",
       "3        3\n",
       "4        4\n",
       "        ..\n",
       "9217    67\n",
       "9218    68\n",
       "9219    69\n",
       "9220    70\n",
       "9221    71\n",
       "Name: Unnamed: 0, Length: 9222, dtype: int64"
      ]
     },
     "execution_count": 65,
     "metadata": {},
     "output_type": "execute_result"
    }
   ],
   "source": [
    "df = pd.read_csv('all_data.csv')\n",
    "y = df['beat_spread']\n",
    "X = df.copy()\n",
    "X.pop('beat_spread')\n",
    "X.pop('Unnamed: 0')"
   ]
  },
  {
   "cell_type": "code",
   "execution_count": 66,
   "id": "1c6d471b-f27d-4509-86e5-21399fbf8236",
   "metadata": {},
   "outputs": [],
   "source": [
    "X_train, X_test, y_train, y_test = train_test_split( X, y, test_size=0.3)"
   ]
  },
  {
   "cell_type": "markdown",
   "id": "ec1481dc-a4de-43c4-aec6-e5d2b25696c2",
   "metadata": {},
   "source": [
    "# Models Being Considered\n",
    "\n",
    "For this binary classification class, I am deciding between a Random Forest Classifier, LightGBM, LinearSVC, and Neural Net with only one layer of neurons."
   ]
  },
  {
   "cell_type": "code",
   "execution_count": 36,
   "id": "c23d33a8-2756-4ac6-9772-872208f2cd24",
   "metadata": {},
   "outputs": [],
   "source": [
    "from keras.models import Sequential\n",
    "from keras.layers import Dense\n",
    "from keras.wrappers.scikit_learn import KerasClassifier\n",
    "from sklearn.model_selection import cross_val_score\n",
    "from sklearn.preprocessing import LabelEncoder\n",
    "from sklearn.model_selection import StratifiedKFold"
   ]
  },
  {
   "cell_type": "code",
   "execution_count": 46,
   "id": "94d3235d-9e62-4dd6-9eb5-4db8c8cfa663",
   "metadata": {},
   "outputs": [],
   "source": [
    "def create_baseline():\n",
    "    # create model\n",
    "    model = Sequential()\n",
    "    model.add(Dense(10, input_dim=10, activation='relu'))\n",
    "    model.add(Dense(1, activation='sigmoid'))\n",
    "    #Compile model\n",
    "    model.compile(loss='binary_crossentropy', optimizer='adam', metrics=['accuracy'])\n",
    "    return model"
   ]
  },
  {
   "cell_type": "code",
   "execution_count": 114,
   "id": "4b012c0f-3138-41ea-95c3-7670b382d528",
   "metadata": {},
   "outputs": [
    {
     "name": "stdout",
     "output_type": "stream",
     "text": [
      "<generator object _BaseKFold.split at 0x170dd0510>\n",
      "[[0.8702204  0.1297796 ]\n",
      " [0.72620904 0.27379096]\n",
      " [0.83062545 0.16937455]\n",
      " ...\n",
      " [0.40809137 0.59190863]\n",
      " [0.54862429 0.45137571]\n",
      " [0.78433646 0.21566354]]\n",
      "[[0.49009703 0.50990297]\n",
      " [0.59068018 0.40931982]\n",
      " [0.39852781 0.60147219]\n",
      " ...\n",
      " [0.26406672 0.73593328]\n",
      " [0.27824707 0.72175293]\n",
      " [0.44553104 0.55446896]]\n",
      "[[0.56085656 0.43914344]\n",
      " [0.50519589 0.49480411]\n",
      " [0.56274168 0.43725832]\n",
      " ...\n",
      " [0.66979571 0.33020429]\n",
      " [0.72157667 0.27842333]\n",
      " [0.61960143 0.38039857]]\n",
      "[[0.42813939 0.57186061]\n",
      " [0.36370588 0.63629412]\n",
      " [0.46810783 0.53189217]\n",
      " ...\n",
      " [0.27611333 0.72388667]\n",
      " [0.74184108 0.25815892]\n",
      " [0.63725929 0.36274071]]\n",
      "[[0.64393946 0.35606054]\n",
      " [0.40665915 0.59334085]\n",
      " [0.24951696 0.75048304]\n",
      " ...\n",
      " [0.67039176 0.32960824]\n",
      " [0.37474845 0.62525155]\n",
      " [0.49972494 0.50027506]]\n",
      "Accuracy: 66.09% (0.87%)\n",
      "F1: 65.26% (0.91%)\n"
     ]
    }
   ],
   "source": [
    "# make predictions using random forest for classification\n",
    "from sklearn.datasets import make_classification\n",
    "from sklearn.ensemble import RandomForestClassifier\n",
    "from sklearn.linear_model import LogisticRegression\n",
    "from sklearn.model_selection import KFold \n",
    "from sklearn.svm import LinearSVC\n",
    "from lightgbm import LGBMClassifier\n",
    "\n",
    "\n",
    "kf = KFold(n_splits=5, shuffle = True, random_state=None)\n",
    "\n",
    "\n",
    "\n",
    "print(kf.split(X))\n",
    "\n",
    "metrics = {'accuracy':[], 'f1': []}\n",
    "\n",
    "for train_index, test_index in kf.split(X):\n",
    "    #print(train_index, test_index)\n",
    "    X_train, X_test = X.values[train_index], X.values[test_index] \n",
    "    y_train, y_test = y.values[train_index], y.values[test_index]\n",
    "    model = LGBMClassifier(n_estimators = 50)\n",
    "    model.fit(X_train, y_train)\n",
    "    \n",
    "    rfc_pred_test = model.predict(X_test)\n",
    "    print(model.predict_proba(X_test))\n",
    "    f1_test = f1_score(y_test,rfc_pred_test)\n",
    "    accuracy_test = accuracy_score(y_test, rfc_pred_test)\n",
    "\n",
    "    metrics['accuracy'].append(accuracy_test)\n",
    "    metrics['f1'].append(f1_test)\n",
    "\n",
    "accuracy = np.array(metrics['accuracy'])\n",
    "f1 = np.array(metrics['f1'])\n",
    "\n",
    "\n",
    "accuracy_avg = accuracy.mean()*100\n",
    "accuracy_std = accuracy.std()*100\n",
    "\n",
    "f1_avg = f1.mean()*100\n",
    "f1_std = f1.std()*100\n",
    "    \n",
    "print(\"Accuracy: %.2f%% (%.2f%%)\" % (accuracy_avg, accuracy_std))\n",
    "print(\"F1: %.2f%% (%.2f%%)\" % (f1_avg, f1_std))\n"
   ]
  },
  {
   "cell_type": "markdown",
   "id": "99add772-8a2f-4ca5-8390-627f1a3ddf8c",
   "metadata": {},
   "source": [
    "# Results\n",
    "### RandomForestClassifier(n_estimators = 1000)\n",
    "Accuracy: 64.94% (0.61%)\n",
    "F1: 63.86% (1.03%)\n",
    "\n",
    "### LinearSVC()\n",
    "Accuracy: 54.42% (3.18%)\n",
    "F1: 54.42% (16.85%)\n",
    "\n",
    "### LGBMClassifier(n_estimators = 50)\n",
    "Accuracy: 65.55% (0.82%)\n",
    "F1: 64.67% (0.99%)\n",
    "\n",
    "### KerasClassifier(build_fn=create_baseline, epochs=100, batch_size=5, verbose=0)\n",
    "Accuracy: 65.34% (0.82%)\n",
    "F1: 61.65% (3.93%)\n",
    "\n",
    "\n",
    "Because of the fast training time, high accuracy, and low standard deviation, I chose the **LGBM Classifier**"
   ]
  },
  {
   "cell_type": "markdown",
   "id": "f9eabdd9-489f-497c-9718-042a0216775b",
   "metadata": {},
   "source": [
    "# Finding the Optimal Betting Strategy\n",
    "\n",
    "With the LGBM model, I now want to figure out which games to bet on. How sure does my model have to be in the outcome of its prediction for me to make a bet (either that the team does or doesn't beat the spread). Note that generally you have to bet 110 to win 100 in Vegas"
   ]
  },
  {
   "cell_type": "code",
   "execution_count": 198,
   "id": "b4223e68-067b-4a5c-92c3-4ddf694f8f64",
   "metadata": {},
   "outputs": [],
   "source": []
  },
  {
   "cell_type": "code",
   "execution_count": 292,
   "id": "143b8c82-a7e5-4af9-8edc-6826488099d6",
   "metadata": {},
   "outputs": [],
   "source": [
    "# Penalty for incorrect bet -1.1\n",
    "# Benefit for correct bet +1\n",
    "#We want to find the optimal threshold of confidence for our model to make a bet\n",
    "def calibrate_thresholds():\n",
    "    X_train, X_test, y_train, y_test = train_test_split( X, y, test_size=0.2)\n",
    "    model = LGBMClassifier(n_estimators = 50)\n",
    "    model.fit(X_train, y_train)\n",
    "    predictions = model.predict(X_test)\n",
    "    probabilities = model.predict_proba(X_test)\n",
    "\n",
    "    metrics = {}\n",
    "    metrics['thresholds'] = np.linspace(0.5,1, num = 100)\n",
    "    metrics['money_made'] = []\n",
    "    metrics['ROIs'] = []\n",
    "    metrics['certainty'] = []\n",
    "    metrics['totalbets'] = []\n",
    "    metrics['lowests'] = []\n",
    "    metrics['money_per_bet'] = []\n",
    "\n",
    "    \n",
    "    for threshold in thresholds:\n",
    "        money = 0\n",
    "        correct = 0\n",
    "        total = 0\n",
    "        lowest = 110\n",
    "        totalmoney = 0\n",
    "        for i in range(len(predictions)):\n",
    "            prediction = predictions[i]\n",
    "            probability_tup = probabilities[i]\n",
    "            if abs(probability_tup[0]-0.5)>abs(threshold-0.5):\n",
    "                #works if threshold is greater than 0.5, which it has to be\n",
    "                #print(probability_tup, threshold, prediction)\n",
    "                if prediction == y_test.iloc[i]:\n",
    "                    correct+=1\n",
    "                    money += 210\n",
    "                else:\n",
    "                    money-=0\n",
    "                total+=1\n",
    "                totalmoney+=110\n",
    "                \n",
    "                lowest = min(lowest, money-totalmoney)\n",
    "        metrics['money_made'].append(money-totalmoney)\n",
    "        metrics['lowests'].append(lowest)\n",
    "        if total == 0:\n",
    "            metrics['certainty'].append(0)\n",
    "            metrics['ROIs'].append(1)\n",
    "            metrics['money_per_bet'].append(0)\n",
    "        else:\n",
    "            ROI = money/totalmoney\n",
    "            metrics['certainty'].append(correct/total)\n",
    "            metrics['ROIs'].append(ROI)\n",
    "            metrics['money_per_bet'].append((money-totalmoney)/total)\n",
    "        metrics['totalbets'].append(total)\n",
    "    return metrics\n",
    "\n"
   ]
  },
  {
   "cell_type": "code",
   "execution_count": 293,
   "id": "c3e78d6a-c6cf-4be7-a94e-6bb49fad678e",
   "metadata": {},
   "outputs": [
    {
     "data": {
      "image/png": "[encoded data removed]",
      "text/plain": [
       "<Figure size 432x288 with 1 Axes>"
      ]
     },
     "metadata": {
      "needs_background": "light"
     },
     "output_type": "display_data"
    },
    {
     "data": {
      "image/png": "[encoded data removed]",
      "text/plain": [
       "<Figure size 432x288 with 1 Axes>"
      ]
     },
     "metadata": {
      "needs_background": "light"
     },
     "output_type": "display_data"
    },
    {
     "data": {
      "image/png": "[encoded data removed]",
      "text/plain": [
       "<Figure size 432x288 with 1 Axes>"
      ]
     },
     "metadata": {
      "needs_background": "light"
     },
     "output_type": "display_data"
    },
    {
     "data": {
      "image/png": "[encoded data removed]",
      "text/plain": [
       "<Figure size 432x288 with 1 Axes>"
      ]
     },
     "metadata": {
      "needs_background": "light"
     },
     "output_type": "display_data"
    },
    {
     "data": {
      "image/png": "[encoded data removed]",
      "text/plain": [
       "<Figure size 432x288 with 1 Axes>"
      ]
     },
     "metadata": {
      "needs_background": "light"
     },
     "output_type": "display_data"
    }
   ],
   "source": [
    "metrics = calibrate_thresholds()\n",
    "\n",
    "#print(certainty)\n",
    "\n",
    "plt.figure(0)\n",
    "plt.plot(metrics['thresholds'],metrics['certainty'], label = 'actual performance')\n",
    "plt.xlabel('required certainty to make bet')\n",
    "plt.ylabel('correct bets / total bets')\n",
    "plt.plot(metrics['thresholds'], metrics['thresholds'], label = 'expected performance')\n",
    "plt.legend()\n",
    "\n",
    "plt.figure(1)\n",
    "plt.plot(metrics['thresholds'],metrics['totalbets'])\n",
    "plt.xlabel('required certainty to make bet')\n",
    "plt.ylabel('total bets made')\n",
    "\n",
    "plt.figure(2)\n",
    "plt.plot(metrics['thresholds'],metrics['money_made'], label = 'profit')\n",
    "plt.xlabel('required certainty to make bet')\n",
    "plt.ylabel('dollars')\n",
    "plt.plot(metrics['thresholds'], [metrics['money_made'][i]/metrics['ROIs'][i] for i in range(len(metrics['money_made']))], \n",
    "         label = 'money spent')\n",
    "plt.legend()\n",
    "\n",
    "plt.figure(3)\n",
    "plt.plot(metrics['thresholds'],metrics['ROIs'])\n",
    "plt.xlabel('required certainty to make bet')\n",
    "plt.ylabel('ROI ( profit / money spent)')\n",
    "\n",
    "plt.figure(4)\n",
    "plt.plot(metrics['thresholds'],metrics['money_per_bet'])\n",
    "plt.xlabel('required certainty to make bet')\n",
    "plt.ylabel('money made per bet')\n",
    "\n",
    "\n",
    "plt.show()"
   ]
  },
  {
   "cell_type": "markdown",
   "id": "656c7e90-d642-41b3-9d56-cc5569669bd5",
   "metadata": {},
   "source": []
  },
  {
   "cell_type": "code",
   "execution_count": 298,
   "id": "f7ddbbde-d6bb-49e9-a9c1-c90b8897ea8b",
   "metadata": {},
   "outputs": [
    {
     "name": "stdout",
     "output_type": "stream",
     "text": [
      "thresholds: 0.92 (0.02)\n",
      "money_made: 3285.56 (1276.33)\n",
      "ROIs: 1.91 (0.00)\n",
      "certainty: 1.00 (0.00)\n",
      "totalbets: 32.86 (12.76)\n",
      "lowests: 99.98 (0.45)\n",
      "money_per_bet: 99.97 (0.42)\n",
      "thresholds: 0.92 (0.02)\n",
      "money_made: 3310.78 (1327.49)\n",
      "ROIs: 1.91 (0.00)\n",
      "certainty: 1.00 (0.00)\n",
      "totalbets: 33.11 (13.27)\n",
      "lowests: 100.00 (0.00)\n",
      "money_per_bet: 99.98 (0.34)\n",
      "thresholds: 0.53 (0.02)\n",
      "money_made: 53614.84 (3385.73)\n",
      "ROIs: 1.30 (0.03)\n",
      "certainty: 0.68 (0.02)\n",
      "totalbets: 1625.75 (148.72)\n",
      "lowests: -84.00 (202.87)\n",
      "money_per_bet: 33.21 (3.26)\n"
     ]
    }
   ],
   "source": [
    "\n",
    "\n",
    "\n",
    "to_calibrate_quants = ['money_per_bet', 'ROIs', 'money_made']\n",
    "\n",
    "for to_calibrate in to_calibrate_quants:\n",
    "    result_cal = {}                       \n",
    "    names = []\n",
    "    for i in range(500):\n",
    "        metrics = calibrate_thresholds()\n",
    "        names = list(metrics.keys())\n",
    "\n",
    "        max_cal = max(metrics[to_calibrate])\n",
    "        index = metrics[to_calibrate].index(max_cal)\n",
    "\n",
    "        for name in names:\n",
    "            if i == 0:\n",
    "                result_cal[name] = []\n",
    "            result_cal[name].append(metrics[name][index])\n",
    "\n",
    "    for name in names:\n",
    "        quality = np.array(result_cal[name])\n",
    "        print(name+\": %.2f (%.2f)\" % (np.mean(quality), np.std(quality)))\n",
    "\n",
    "\n",
    "# with this formulation of the problem, it is clear that we shou\n",
    "    "
   ]
  },
  {
   "cell_type": "markdown",
   "id": "01d257bb-8648-4471-aa30-ef4135cbdd21",
   "metadata": {},
   "source": [
    "We maximize our profits when we set our threshold to 0.53\n",
    "\n",
    "thresholds: 0.53 (0.02)\n",
    "money_made: 53614.84 (3385.73)\n",
    "ROIs: 1.30 (0.03)\n",
    "certainty: 0.68 (0.02)\n",
    "totalbets: 1625.75 (148.72)\n",
    "lowests: -84.00 (202.87)\n",
    "money_per_bet: 33.21 (3.26)\n",
    "\n",
    "We make a ton of money ($50k), but we also make a ton of bets. Our average profit per bet is only 31.12 (2.43). The reason this threshold is so low is because our system is less sure of itself than it should be. It's right way more often than it's given probability. The least amount of money we sink to from our starting 110 is 22 (155.23)\n",
    "\n",
    "\n",
    "We maximize our ROI and money made per bet when we set the threshold to 0.92\n",
    "\n",
    "thresholds: 0.92 (0.02)\n",
    "money_made: 3310.78 (1327.49)\n",
    "ROIs: 1.91 (0.00)\n",
    "certainty: 1.00 (0.00)\n",
    "totalbets: 33.11 (13.27)\n",
    "lowests: 100.00 (0.00)\n",
    "money_per_bet: 99.98 (0.34)\n",
    "\n",
    "We now make less money (3410 with a big swing), but our return on investment is 1.91 with little deviation. Meanwhile we never drop below a 100 bucks, and we make 100 bucks per bet, which is pretty great. Our ROI is solid at 1.91\n",
    "\n",
    "\n",
    "We maximize our money made per bet when we set the threshold to 0.92\n",
    "\n",
    "thresholds: 0.92 (0.02)\n",
    "money_made: 3285.56 (1276.33)\n",
    "ROIs: 1.91 (0.00)\n",
    "certainty: 1.00 (0.00)\n",
    "totalbets: 32.86 (12.76)\n",
    "lowests: 99.98 (0.45)\n",
    "money_per_bet: 99.97 (0.42)"
   ]
  },
  {
   "cell_type": "code",
   "execution_count": null,
   "id": "34906f83-6f1a-4847-9458-87b21bc3b475",
   "metadata": {},
   "outputs": [],
   "source": []
  }
 ],
 "metadata": {
  "kernelspec": {
   "display_name": "Python 3 (ipykernel)",
   "language": "python",
   "name": "python3"
  },
  "language_info": {
   "codemirror_mode": {
    "name": "ipython",
    "version": 3
   },
   "file_extension": ".py",
   "mimetype": "text/x-python",
   "name": "python",
   "nbconvert_exporter": "python",
   "pygments_lexer": "ipython3",
   "version": "3.9.9"
  }
 },
 "nbformat": 4,
 "nbformat_minor": 5
}
