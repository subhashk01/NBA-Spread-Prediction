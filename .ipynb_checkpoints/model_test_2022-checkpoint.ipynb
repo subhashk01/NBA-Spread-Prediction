{
 "cells": [
  {
   "cell_type": "code",
   "execution_count": 41,
   "id": "75890a77-c9ef-4722-bd7a-62ecd777f4cf",
   "metadata": {},
   "outputs": [],
   "source": [
    "import pandas as pd\n",
    "import numpy as np\n",
    "import matplotlib.pyplot as plt\n",
    "import matplotlib.dates\n",
    "\n",
    "from sklearn.model_selection  import train_test_split\n",
    "from sklearn.metrics import f1_score, accuracy_score, confusion_matrix\n",
    "from sklearn.datasets import make_classification\n",
    "from sklearn.ensemble import RandomForestClassifier\n",
    "from sklearn.linear_model import LogisticRegression\n",
    "from sklearn.model_selection import KFold \n",
    "from sklearn.svm import LinearSVC\n",
    "from lightgbm import LGBMClassifier\n",
    "\n",
    "from datetime import datetime\n",
    "\n",
    "\n",
    "\n"
   ]
  },
  {
   "cell_type": "code",
   "execution_count": 3,
   "id": "dc27ca85-bd2c-4bec-a6cc-794d4527348f",
   "metadata": {},
   "outputs": [
    {
     "data": {
      "text/plain": [
       "LGBMClassifier(n_estimators=50)"
      ]
     },
     "execution_count": 3,
     "metadata": {},
     "output_type": "execute_result"
    }
   ],
   "source": [
    "df = pd.read_csv('all_data.csv')\n",
    "y = df['beat_spread']\n",
    "X = df.copy()\n",
    "X.pop('beat_spread')\n",
    "X.pop('date')\n",
    "X.pop('Unnamed: 0')\n",
    "\n",
    "model = LGBMClassifier(n_estimators = 50)\n",
    "model.fit(X, y)"
   ]
  },
  {
   "cell_type": "code",
   "execution_count": 20,
   "id": "e9cd1715-5f53-490c-8a70-dcff8291932c",
   "metadata": {},
   "outputs": [
    {
     "data": {
      "text/html": [
       "<div>\n",
       "<style scoped>\n",
       "    .dataframe tbody tr th:only-of-type {\n",
       "        vertical-align: middle;\n",
       "    }\n",
       "\n",
       "    .dataframe tbody tr th {\n",
       "        vertical-align: top;\n",
       "    }\n",
       "\n",
       "    .dataframe thead th {\n",
       "        text-align: right;\n",
       "    }\n",
       "</style>\n",
       "<table border=\"1\" class=\"dataframe\">\n",
       "  <thead>\n",
       "    <tr style=\"text-align: right;\">\n",
       "      <th></th>\n",
       "      <th>win_percentage_5</th>\n",
       "      <th>win_percentage</th>\n",
       "      <th>avg_margin_5</th>\n",
       "      <th>avg_margin</th>\n",
       "      <th>home_or_away</th>\n",
       "      <th>spread</th>\n",
       "      <th>opp_win_percentage_5</th>\n",
       "      <th>opp_win_percentage</th>\n",
       "      <th>opp_avg_margin_5</th>\n",
       "      <th>opp_avg_margin</th>\n",
       "    </tr>\n",
       "  </thead>\n",
       "  <tbody>\n",
       "    <tr>\n",
       "      <th>706</th>\n",
       "      <td>1.0</td>\n",
       "      <td>1.0</td>\n",
       "      <td>7.0</td>\n",
       "      <td>7.0</td>\n",
       "      <td>0</td>\n",
       "      <td>3.5</td>\n",
       "      <td>0.0</td>\n",
       "      <td>0.0</td>\n",
       "      <td>7.0</td>\n",
       "      <td>7.0</td>\n",
       "    </tr>\n",
       "    <tr>\n",
       "      <th>108</th>\n",
       "      <td>1.0</td>\n",
       "      <td>1.0</td>\n",
       "      <td>23.0</td>\n",
       "      <td>23.0</td>\n",
       "      <td>1</td>\n",
       "      <td>-1.5</td>\n",
       "      <td>0.0</td>\n",
       "      <td>0.0</td>\n",
       "      <td>23.0</td>\n",
       "      <td>23.0</td>\n",
       "    </tr>\n",
       "    <tr>\n",
       "      <th>630</th>\n",
       "      <td>0.0</td>\n",
       "      <td>0.0</td>\n",
       "      <td>7.0</td>\n",
       "      <td>7.0</td>\n",
       "      <td>1</td>\n",
       "      <td>-3.5</td>\n",
       "      <td>1.0</td>\n",
       "      <td>1.0</td>\n",
       "      <td>7.0</td>\n",
       "      <td>7.0</td>\n",
       "    </tr>\n",
       "    <tr>\n",
       "      <th>997</th>\n",
       "      <td>0.0</td>\n",
       "      <td>0.0</td>\n",
       "      <td>23.0</td>\n",
       "      <td>23.0</td>\n",
       "      <td>0</td>\n",
       "      <td>1.5</td>\n",
       "      <td>1.0</td>\n",
       "      <td>1.0</td>\n",
       "      <td>23.0</td>\n",
       "      <td>23.0</td>\n",
       "    </tr>\n",
       "    <tr>\n",
       "      <th>258</th>\n",
       "      <td>1.0</td>\n",
       "      <td>1.0</td>\n",
       "      <td>11.0</td>\n",
       "      <td>11.0</td>\n",
       "      <td>1</td>\n",
       "      <td>-7.0</td>\n",
       "      <td>0.0</td>\n",
       "      <td>0.0</td>\n",
       "      <td>11.0</td>\n",
       "      <td>11.0</td>\n",
       "    </tr>\n",
       "  </tbody>\n",
       "</table>\n",
       "</div>"
      ],
      "text/plain": [
       "     win_percentage_5  win_percentage  avg_margin_5  avg_margin  home_or_away  \\\n",
       "706               1.0             1.0           7.0         7.0             0   \n",
       "108               1.0             1.0          23.0        23.0             1   \n",
       "630               0.0             0.0           7.0         7.0             1   \n",
       "997               0.0             0.0          23.0        23.0             0   \n",
       "258               1.0             1.0          11.0        11.0             1   \n",
       "\n",
       "     spread  opp_win_percentage_5  opp_win_percentage  opp_avg_margin_5  \\\n",
       "706     3.5                   0.0                 0.0               7.0   \n",
       "108    -1.5                   0.0                 0.0              23.0   \n",
       "630    -3.5                   1.0                 1.0               7.0   \n",
       "997     1.5                   1.0                 1.0              23.0   \n",
       "258    -7.0                   0.0                 0.0              11.0   \n",
       "\n",
       "     opp_avg_margin  \n",
       "706             7.0  \n",
       "108            23.0  \n",
       "630             7.0  \n",
       "997            23.0  \n",
       "258            11.0  "
      ]
     },
     "execution_count": 20,
     "metadata": {},
     "output_type": "execute_result"
    }
   ],
   "source": [
    "df_2022 = pd.read_csv('2022_data.csv')\n",
    "dates_str = list(df_2022['date'])\n",
    "datetime_str = [datetime.strptime(date, '%Y-%m-%d %H:%M:%S') for date in dates_str]\n",
    "df_2022.pop('date')\n",
    "df_2022['date'] = datetime_str\n",
    "\n",
    "df_2022 = df_2022.sort_values(by=['date'])\n",
    "\n",
    "df_2022.pop('Unnamed: 0')\n",
    "\n",
    "y_2022 = df_2022['beat_spread']\n",
    "X_2022 = df_2022.copy()\n",
    "date_order = X_2022['date']\n",
    "X_2022.pop('date')\n",
    "X_2022.pop('beat_spread')\n",
    "X_2022.head()"
   ]
  },
  {
   "cell_type": "code",
   "execution_count": 101,
   "id": "fc32e082-d880-4db8-bf7f-7c6dc9bb565e",
   "metadata": {},
   "outputs": [],
   "source": [
    "\n",
    "def season_simulator(num_failed_bets, threshold, plot = True):\n",
    "    db_size = X_2022.shape[0]\n",
    "\n",
    "    if threshold<0.5:\n",
    "        threshold = 0.5\n",
    "    money = 100\n",
    "    bet_size = 100/num_failed_bets\n",
    "    money_series = []\n",
    "    num_bets_made = 0\n",
    "    correct_bets = 0\n",
    "    total_games = 0\n",
    "    for i in range(db_size):\n",
    "        if money>bet_size:\n",
    "            sample = np.array(X_2022.iloc[i])\n",
    "            prediction = model.predict(sample.reshape(1,-1))\n",
    "            model_certainty = model.predict_proba(sample.reshape(1,-1))\n",
    "            actual = y_2022.iloc[i]\n",
    "\n",
    "            if abs(model_certainty[0][0]-0.5)>abs(threshold-0.5):\n",
    "                num_bets_made+=1\n",
    "                if prediction == actual:\n",
    "                    money+=bet_size/1.1\n",
    "                    correct_bets+=1\n",
    "                else:\n",
    "                    money-=bet_size\n",
    "        total_games+=1\n",
    "\n",
    "        money_series.append(money)\n",
    "\n",
    "    if num_bets_made == 0:\n",
    "        accuracy = 0\n",
    "    else:\n",
    "        accuracy = correct_bets/num_bets_made\n",
    "    \n",
    "    description = 'accuracy of bets: ' + '{:.2f}'.format(100*accuracy)+'%\\npercent of games bet on: '+'{:.2f}'.format(100*num_bets_made/total_games)+'%'\n",
    "    money_made = '\\nmoney made: $'+'{:.2f}'.format(money)\n",
    "    legend_text = description+money_made\n",
    "    if plot:\n",
    "        dates_plt = matplotlib.dates.date2num(date_order)\n",
    "\n",
    "        fig, ax = plt.subplots()\n",
    "        ax.plot(date_order, money_series, label = legend_text)\n",
    "        ax.plot(date_order, [100]*len(date_order), label = 'starting money')\n",
    "        myFmt = matplotlib.dates.DateFormatter(\"%b\")\n",
    "        ax.xaxis.set_major_formatter(myFmt)\n",
    "        ax.set_title('Season Simulated to Jan 4 \\nBet on games with '+'{:.0f}'.format(100*threshold)+'% confidence')\n",
    "        #ax.suptitle('Bet on games with '+'{:.2f}'.format(100*threshold)+' confidence')\n",
    "        \n",
    "        ax.legend()\n",
    "        \n",
    "        fig.autofmt_xdate()\n",
    "        plt.show()\n",
    "    \n",
    "    return money"
   ]
  },
  {
   "cell_type": "code",
   "execution_count": 106,
   "id": "b693e5e7-5363-4c56-83be-218e8f81d53e",
   "metadata": {},
   "outputs": [],
   "source": [
    "season_simulator(2,0.9, False)\n",
    "num_failed_bets = list(range(1,11))\n",
    "thresholds = np.linspace(0.53, 0.93, 10)\n",
    "money_made = {}\n",
    "\n",
    "for i in range(len(num_failed_bets)):\n",
    "    for j in range(len(thresholds)):\n",
    "        num_failed_bet = num_failed_bets[i]\n",
    "        threshold = thresholds[j]\n",
    "        money = season_simulator(num_failed_bet,threshold, False)\n",
    "        money_made[(num_failed_bet, threshold)] = money\n"
   ]
  },
  {
   "cell_type": "code",
   "execution_count": 115,
   "id": "d4b53e7f-f4d2-40e6-9b56-919c980ba493",
   "metadata": {},
   "outputs": [
    {
     "name": "stdout",
     "output_type": "stream",
     "text": [
      "max amount of money to make is  20813.636363636215\n",
      "model confidence:  0.53\n",
      "max number of failed bets:  2\n"
     ]
    }
   ],
   "source": [
    "most_money = max(money_made, key = money_made.get)\n",
    "maxed_money = money_made[most_money]\n",
    "print('max amount of money to make is ', maxed_money)\n",
    "print('model confidence: ', most_money[1])\n",
    "print('max number of failed bets: ', most_money[0])"
   ]
  },
  {
   "cell_type": "code",
   "execution_count": 118,
   "id": "2c2e25a2-02f3-4d5a-942a-e4444cedc208",
   "metadata": {},
   "outputs": [
    {
     "data": {
      "image/png": "[encoded data removed]",
      "text/plain": [
       "<Figure size 432x288 with 1 Axes>"
      ]
     },
     "metadata": {
      "needs_background": "light"
     },
     "output_type": "display_data"
    },
    {
     "data": {
      "text/plain": [
       "20813.636363636215"
      ]
     },
     "execution_count": 118,
     "metadata": {},
     "output_type": "execute_result"
    }
   ],
   "source": [
    "season_simulator(2, 0.53)"
   ]
  },
  {
   "cell_type": "code",
   "execution_count": null,
   "id": "ec3bc229-ddc0-4b80-8d50-74fd166e872d",
   "metadata": {},
   "outputs": [],
   "source": []
  }
 ],
 "metadata": {
  "kernelspec": {
   "display_name": "Python 3 (ipykernel)",
   "language": "python",
   "name": "python3"
  },
  "language_info": {
   "codemirror_mode": {
    "name": "ipython",
    "version": 3
   },
   "file_extension": ".py",
   "mimetype": "text/x-python",
   "name": "python",
   "nbconvert_exporter": "python",
   "pygments_lexer": "ipython3",
   "version": "3.9.9"
  }
 },
 "nbformat": 4,
 "nbformat_minor": 5
}
